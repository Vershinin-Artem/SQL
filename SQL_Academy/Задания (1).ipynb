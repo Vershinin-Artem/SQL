# Задание №1

**Задача:** Вывести имена всех людей, которые есть в базе данных авиакомпаний.

**Поля в результирующей таблице:**
- `name`

```sql
SELECT name
FROM Passenger;
```

---

# Задание №2

**Задача:** Вывести названия всех авиакомпаний.

**Поля в результирующей таблице:**
- `name`

```sql
SELECT name
FROM Company;
```

---

# Задание №3

**Задача:** Вывести все рейсы, совершенные из Москвы.

**Поля в результирующей таблице:**
- `*`

```sql
SELECT *
FROM Trip
WHERE town_from = 'Moscow';
```

---

# Задание №4

**Задача:** Вывести имена людей, которые заканчиваются на "man".

**Поля в результирующей таблице:**
- `name`

```sql
SELECT name
FROM Passenger
WHERE name LIKE '%man';
```

---

# Задание №5

**Задача:** Вывести количество рейсов, совершенных на TU-134.

**Поля в результирующей таблице:**
- `count`

```sql
SELECT COUNT(plane) AS count
FROM Trip
WHERE plane = 'TU-134';
```

---

# Задание №6

**Задача:** Какие компании совершали перелеты на Boeing.

**Поля в результирующей таблице:**
- `name`

```sql
SELECT DISTINCT name
FROM Trip
JOIN Company ON Trip.company = Company.id
WHERE plane = 'Boeing';
```

---

# Задание №7

**Задача:** Вывести все названия самолётов, на которых можно улететь в Москву (Moscow).

**Поля в результирующей таблице:**
- `plane`

```sql
SELECT DISTINCT plane
FROM Trip
WHERE town_to = 'Moscow';
```

---

# Задание №8

**Задача:** Вывести рейсы из Парижа (Paris) и сколько времени это займёт.

**Поля в результирующей таблице:**
- `town_to`
- `flight_time`

```sql
SELECT town_to,
       TIMEDIFF(time_in, time_out) AS flight_time
FROM Trip
WHERE town_from = 'Paris';
```

---

# Задание №9

**Задача:** Какие компании организуют перелеты из Владивостока (Vladivostok)?

**Поля в результирующей таблице:**
- `name`

```sql
SELECT name
FROM Trip
LEFT JOIN Company ON Trip.company = Company.id
WHERE town_from = 'Vladivostok';
```

---

# Задание №10

**Задача:** Вывести вылеты, совершенные с 10 ч. по 14 ч. 1 января 1900 г.

**Поля в результирующей таблице:**
- `*`

```sql
SELECT *
FROM Trip
WHERE time_out BETWEEN '1900-01-01T10:00:00.000Z' AND '1900-01-01T14:00:00.000Z';
```

---

# Задание №11

**Задача:** Вывести пассажиров с самым длинным ФИО. Пробелы, дефисы и точки считаются частью имени.

**Поля в результирующей таблице:**
- `name`

```sql
SELECT name
FROM Passenger
WHERE LENGTH(name) = (SELECT MAX(LENGTH(name)) FROM Passenger);
```

---

# Задание №12

**Задача:** Вывести идентификаторы всех рейсов и количество пассажиров на них. Если пассажиров нет, вывести 0.

**Поля в результирующей таблице:**
- `id`
- `count`

```sql
SELECT Trip.id,
       COUNT(passenger) AS count
FROM Trip
LEFT JOIN Pass_in_trip ON Trip.id = Pass_in_trip.trip
GROUP BY Trip.id;
```

---

# Задание №13

**Задача:** Вывести имена людей, у которых есть полный тёзка среди пассажиров.

**Поля в результирующей таблице:**
- `name`

```sql
SELECT name
FROM Passenger
GROUP BY name
HAVING COUNT(*) > 1;
```

---

# Задание №14

**Задача:** В какие города летал Bruce Willis.

**Поля в результирующей таблице:**
- `town_to`

```sql
SELECT town_to
FROM Trip
INNER JOIN Pass_in_trip ON Trip.id = Pass_in_trip.trip
INNER JOIN Passenger ON Pass_in_trip.passenger = Passenger.id
WHERE name = 'Bruce Willis';
```

---

# Задание №15

**Задача:** Вывести идентификатор пассажира Стив Мартин (Steve Martin) и дату и время его прилёта в Лондон (London).

**Поля в результирующей таблице:**
- `id`
- `time_in`

```sql
SELECT Passenger.id,
       time_in
FROM Trip
INNER JOIN Pass_in_trip ON Trip.id = Pass_in_trip.trip
INNER JOIN Passenger ON Pass_in_trip.passenger = Passenger.id
WHERE town_to = 'London'
  AND name = 'Steve Martin';
```

---

# Задание №16

**Задача:** Вывести отсортированный по количеству перелетов (по убыванию) и имени (по возрастанию) список пассажиров, совершивших хотя бы 1 полет.

**Поля в результирующей таблице:**
- `name`
- `count`

```sql
SELECT name,
       COUNT(trip) AS count
FROM Pass_in_trip
INNER JOIN Passenger ON Pass_in_trip.passenger = Passenger.id
GROUP BY name
ORDER BY count DESC, name;
```

---

# Задание №17

**Задача:** Определить, сколько потратил в 2005 году каждый из членов семьи. Не выводить тех, кто ничего не потратил.

**Поля в результирующей таблице:**
- `member_name`
- `status`
- `costs`

```sql
SELECT member_name,
       status,
       SUM(unit_price * amount) AS costs
FROM FamilyMembers
LEFT JOIN Payments ON FamilyMembers.member_id = Payments.family_member
WHERE YEAR(date) = 2005
GROUP BY member_name, status;
```

---

# Задание №18

**Задача:** Вывести имя самого старшего человека. Если таких несколько, вывести их всех.

```sql
SELECT member_name
FROM FamilyMembers
WHERE birthday = (SELECT MIN(birthday) FROM FamilyMembers);
```
